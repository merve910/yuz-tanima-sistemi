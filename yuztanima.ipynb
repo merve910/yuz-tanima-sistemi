{
 "cells": [
  {
   "cell_type": "code",
   "execution_count": 15,
   "id": "acb0408b-8d2b-4792-a803-cb8a1671a1c0",
   "metadata": {},
   "outputs": [
    {
     "name": "stdin",
     "output_type": "stream",
     "text": [
      "Kayıt edilecek kullanıcının adını girin (Çıkmak için 'q'):  MERVE\n"
     ]
    },
    {
     "name": "stdout",
     "output_type": "stream",
     "text": [
      "MERVE, lütfen kameraya bakın...\n",
      "MERVE başarıyla kaydedildi! Dosya: known_faces/MERVE.jpg\n"
     ]
    },
    {
     "name": "stdin",
     "output_type": "stream",
     "text": [
      "Kayıt edilecek kullanıcının adını girin (Çıkmak için 'q'):  ELON MUSK\n"
     ]
    },
    {
     "name": "stdout",
     "output_type": "stream",
     "text": [
      "ELON MUSK, lütfen kameraya bakın...\n",
      "ELON MUSK başarıyla kaydedildi! Dosya: known_faces/ELON MUSK.jpg\n"
     ]
    },
    {
     "name": "stdin",
     "output_type": "stream",
     "text": [
      "Kayıt edilecek kullanıcının adını girin (Çıkmak için 'q'):  q\n"
     ]
    },
    {
     "name": "stdout",
     "output_type": "stream",
     "text": [
      "Kayıt işlemi sonlandırıldı.\n"
     ]
    }
   ],
   "source": [
    "import cv2\n",
    "import os\n",
    "\n",
    "def add_user(user_name):\n",
    "    \"\"\"Yeni kullanıcıyı kaydeder.\"\"\"\n",
    "    os.makedirs(\"known_faces\", exist_ok=True)\n",
    "    save_path = f\"known_faces/{user_name}.jpg\"\n",
    "\n",
    "    video_capture = cv2.VideoCapture(0)\n",
    "    if not video_capture.isOpened():\n",
    "        print(\"Kamera açılamadı, bağlantıyı kontrol edin.\")\n",
    "        return\n",
    "\n",
    "    print(f\"{user_name}, lütfen kameraya bakın...\")\n",
    "\n",
    "    while True:\n",
    "        ret, frame = video_capture.read()\n",
    "        if not ret:\n",
    "            print(\"Görüntü alınamadı.\")\n",
    "            break\n",
    "\n",
    "        cv2.imshow(\"Yüz Kaydı (Kaydetmek için 's', iptal için 'q')\", frame)\n",
    "\n",
    "        key = cv2.waitKey(1)\n",
    "        if key & 0xFF == ord('s'):\n",
    "            cv2.imwrite(save_path, frame)\n",
    "            print(f\"{user_name} başarıyla kaydedildi! Dosya: {save_path}\")\n",
    "            break\n",
    "        elif key & 0xFF == ord('q'):\n",
    "            print(\"Kayıt iptal edildi.\")\n",
    "            break\n",
    "\n",
    "    video_capture.release()\n",
    "    cv2.destroyAllWindows()\n",
    "\n",
    "\n",
    "if __name__ == \"__main__\":\n",
    "    while True:\n",
    "        name = input(\"Kayıt edilecek kullanıcının adını girin (Çıkmak için 'q'): \")\n",
    "        if name.lower() == 'q':\n",
    "            print(\"Kayıt işlemi sonlandırıldı.\")\n",
    "            break\n",
    "        elif name.strip() == \"\":\n",
    "            print(\"İsim boş olamaz.\")\n",
    "            continue\n",
    "        else:\n",
    "            add_user(name)\n"
   ]
  },
  {
   "cell_type": "code",
   "execution_count": 23,
   "id": "872954a5-34fe-416f-9b33-b972c1856abd",
   "metadata": {},
   "outputs": [
    {
     "name": "stdout",
     "output_type": "stream",
     "text": [
      "Atlanıyor (geçersiz dosya): desktop.ini\n",
      "Tanımlanan kişi: MERVE\n"
     ]
    }
   ],
   "source": [
    "import cv2\n",
    "import face_recognition\n",
    "import numpy as np\n",
    "import os\n",
    "\n",
    "def recognize_face():\n",
    "    KNOWN_FACES_DIR = \"known_faces\"\n",
    "    known_faces = []\n",
    "    known_names = []\n",
    "\n",
    "    for filename in os.listdir(KNOWN_FACES_DIR):\n",
    "        image_path = os.path.join(KNOWN_FACES_DIR, filename)\n",
    "\n",
    "        # Gizli dosyaları ve sistem dosyalarını atla\n",
    "        if filename.startswith('.') or not filename.lower().endswith(('.jpg', '.jpeg', '.png')):\n",
    "            continue\n",
    "\n",
    "        try:\n",
    "            image = face_recognition.load_image_file(image_path)\n",
    "            encodings = face_recognition.face_encodings(image)\n",
    "\n",
    "            if encodings:\n",
    "                known_faces.append(encodings[0])\n",
    "                known_names.append(os.path.splitext(filename)[0])\n",
    "            else:\n",
    "                print(f\"Uyarı: {filename} içinde yüz bulunamadı.\")\n",
    "        except Exception as e:\n",
    "            print(f\"Resim yüklenirken bir hata oluştu: {filename}. Hata: {e}\")\n",
    "\n",
    "    # Kamera ile yüz tanıma işlemi\n",
    "    video_capture = cv2.VideoCapture(0)\n",
    "    if not video_capture.isOpened():\n",
    "        print(\"Kamera açılamadı.\")\n",
    "        return \"Kamera hatası\"\n",
    "\n",
    "    name = \"Erişim reddedildi\"\n",
    "    face_detected = False\n",
    "\n",
    "    while not face_detected:\n",
    "        ret, frame = video_capture.read()\n",
    "        if not ret:\n",
    "            print(\"Görüntü alınamadı.\")\n",
    "            break\n",
    "\n",
    "        rgb_frame = cv2.cvtColor(frame, cv2.COLOR_BGR2RGB)\n",
    "        face_locations = face_recognition.face_locations(rgb_frame)\n",
    "        face_encodings = face_recognition.face_encodings(rgb_frame, face_locations)\n",
    "\n",
    "        for face_encoding, (top, right, bottom, left) in zip(face_encodings, face_locations):\n",
    "            matches = face_recognition.compare_faces(known_faces, face_encoding)\n",
    "            face_distances = face_recognition.face_distance(known_faces, face_encoding)\n",
    "            best_match_index = np.argmin(face_distances) if matches else None\n",
    "\n",
    "            if best_match_index is not None and matches[best_match_index]:\n",
    "                name = known_names[best_match_index]\n",
    "\n",
    "            # Çerçeve rengi ve etiketi ayarla\n",
    "            if name != \"Erişim reddedildi\":\n",
    "                label = \"Giriş başaril\"\n",
    "                color = (0, 255, 0)  \n",
    "            else:\n",
    "                label = \"Erişim reddedildi\"\n",
    "                color = (0, 0, 255)  \n",
    "\n",
    "            cv2.rectangle(frame, (left, top), (right, bottom), color, 2)\n",
    "            cv2.putText(frame, label, (left, top - 10), cv2.FONT_HERSHEY_SIMPLEX, 0.8, color, 2)\n",
    "            face_detected = True\n",
    "\n",
    "        cv2.imshow(\"Yüz Tanıma\", frame)\n",
    "\n",
    "        if cv2.waitKey(1) & 0xFF == ord('q'):\n",
    "            name = \"İşlem iptal edildi\"\n",
    "            break\n",
    "\n",
    "    video_capture.release()\n",
    "    cv2.destroyAllWindows()\n",
    "    return name\n",
    "\n",
    "# Doğrudan çalıştırılırsa:\n",
    "if __name__ == \"__main__\":\n",
    "    result = recognize_face()\n",
    "    print(\"Tanımlanan kişi:\", result)\n"
   ]
  },
  {
   "cell_type": "code",
   "execution_count": 25,
   "id": "40e9796d-d9b2-4980-a36e-3244ba42a98c",
   "metadata": {},
   "outputs": [],
   "source": [
    "import csv\n",
    "from datetime import datetime\n",
    "import os\n",
    "\n",
    "LOG_FILE = \"logs/access_log.csv\"\n",
    "\n",
    "# Klasör yoksa oluştur\n",
    "os.makedirs(\"logs\", exist_ok=True)\n",
    "\n",
    "# Dosya yoksa başlıkla oluştur\n",
    "if not os.path.exists(LOG_FILE):\n",
    "    with open(LOG_FILE, mode=\"w\", newline=\"\") as file:\n",
    "        writer = csv.writer(file)\n",
    "        writer.writerow([\"Tarih-Saat\", \"Kullanıcı\"])\n",
    "\n",
    "def log_access(user_name):\n",
    "    \"\"\"Kişi bilgisini tarih-saat ile CSV'ye yazar.\"\"\"\n",
    "    with open(LOG_FILE, mode=\"a\", newline=\"\") as file:\n",
    "        writer = csv.writer(file)\n",
    "        writer.writerow([datetime.now().strftime(\"%Y-%m-%d %H:%M:%S\"), user_name])\n",
    "    print(f\"Giriş kaydedildi: {user_name}\")\n"
   ]
  },
  {
   "cell_type": "code",
   "execution_count": 27,
   "id": "4dd7c60b-e1fd-4df2-b28d-be8dc0360c3c",
   "metadata": {},
   "outputs": [
    {
     "name": "stdout",
     "output_type": "stream",
     "text": [
      "\n",
      "--- Yüz Tanıma Sistemi ---\n",
      "1. Yeni Kullanıcı Kaydı\n",
      "2. Yüz Tanıma ve Giriş Kontrolü\n",
      "3. Çıkış\n"
     ]
    },
    {
     "name": "stdin",
     "output_type": "stream",
     "text": [
      "Bir seçenek girin (1/2/3):  2\n"
     ]
    },
    {
     "ename": "UnidentifiedImageError",
     "evalue": "cannot identify image file 'C:\\\\Users\\\\LENOVO\\\\yuz-tanima-sistemi\\\\known_faces\\\\desktop.ini'",
     "output_type": "error",
     "traceback": [
      "\u001b[1;31m---------------------------------------------------------------------------\u001b[0m",
      "\u001b[1;31mUnidentifiedImageError\u001b[0m                    Traceback (most recent call last)",
      "Cell \u001b[1;32mIn[27], line 33\u001b[0m\n\u001b[0;32m     30\u001b[0m             \u001b[38;5;28mprint\u001b[39m(\u001b[38;5;124m\"\u001b[39m\u001b[38;5;124mGeçersiz seçenek. Lütfen tekrar deneyin.\u001b[39m\u001b[38;5;124m\"\u001b[39m)\n\u001b[0;32m     32\u001b[0m \u001b[38;5;28;01mif\u001b[39;00m \u001b[38;5;18m__name__\u001b[39m \u001b[38;5;241m==\u001b[39m \u001b[38;5;124m\"\u001b[39m\u001b[38;5;124m__main__\u001b[39m\u001b[38;5;124m\"\u001b[39m:\n\u001b[1;32m---> 33\u001b[0m     \u001b[43mmain\u001b[49m\u001b[43m(\u001b[49m\u001b[43m)\u001b[49m\n",
      "Cell \u001b[1;32mIn[27], line 22\u001b[0m, in \u001b[0;36mmain\u001b[1;34m()\u001b[0m\n\u001b[0;32m     19\u001b[0m     add_user(name)\n\u001b[0;32m     21\u001b[0m \u001b[38;5;28;01melif\u001b[39;00m choice \u001b[38;5;241m==\u001b[39m \u001b[38;5;124m'\u001b[39m\u001b[38;5;124m2\u001b[39m\u001b[38;5;124m'\u001b[39m:\n\u001b[1;32m---> 22\u001b[0m     result \u001b[38;5;241m=\u001b[39m \u001b[43mrecognize_face\u001b[49m\u001b[43m(\u001b[49m\u001b[43m)\u001b[49m\n\u001b[0;32m     23\u001b[0m     log_access(result)\n\u001b[0;32m     25\u001b[0m \u001b[38;5;28;01melif\u001b[39;00m choice \u001b[38;5;241m==\u001b[39m \u001b[38;5;124m'\u001b[39m\u001b[38;5;124m3\u001b[39m\u001b[38;5;124m'\u001b[39m:\n",
      "File \u001b[1;32m~\\yuz-tanima-sistemi\\face_recognizer.py:13\u001b[0m, in \u001b[0;36mrecognize_face\u001b[1;34m()\u001b[0m\n\u001b[0;32m     11\u001b[0m \u001b[38;5;28;01mfor\u001b[39;00m filename \u001b[38;5;129;01min\u001b[39;00m os\u001b[38;5;241m.\u001b[39mlistdir(KNOWN_FACES_DIR):\n\u001b[0;32m     12\u001b[0m     image_path \u001b[38;5;241m=\u001b[39m os\u001b[38;5;241m.\u001b[39mpath\u001b[38;5;241m.\u001b[39mjoin(KNOWN_FACES_DIR, filename)\n\u001b[1;32m---> 13\u001b[0m     image \u001b[38;5;241m=\u001b[39m \u001b[43mface_recognition\u001b[49m\u001b[38;5;241;43m.\u001b[39;49m\u001b[43mload_image_file\u001b[49m\u001b[43m(\u001b[49m\u001b[43mimage_path\u001b[49m\u001b[43m)\u001b[49m\n\u001b[0;32m     14\u001b[0m     encodings \u001b[38;5;241m=\u001b[39m face_recognition\u001b[38;5;241m.\u001b[39mface_encodings(image)\n\u001b[0;32m     15\u001b[0m     \u001b[38;5;28;01mif\u001b[39;00m encodings:\n",
      "File \u001b[1;32m~\\AppData\\Roaming\\Python\\Python312\\site-packages\\face_recognition\\api.py:86\u001b[0m, in \u001b[0;36mload_image_file\u001b[1;34m(file, mode)\u001b[0m\n\u001b[0;32m     78\u001b[0m \u001b[38;5;28;01mdef\u001b[39;00m\u001b[38;5;250m \u001b[39m\u001b[38;5;21mload_image_file\u001b[39m(file, mode\u001b[38;5;241m=\u001b[39m\u001b[38;5;124m'\u001b[39m\u001b[38;5;124mRGB\u001b[39m\u001b[38;5;124m'\u001b[39m):\n\u001b[0;32m     79\u001b[0m \u001b[38;5;250m    \u001b[39m\u001b[38;5;124;03m\"\"\"\u001b[39;00m\n\u001b[0;32m     80\u001b[0m \u001b[38;5;124;03m    Loads an image file (.jpg, .png, etc) into a numpy array\u001b[39;00m\n\u001b[0;32m     81\u001b[0m \n\u001b[1;32m   (...)\u001b[0m\n\u001b[0;32m     84\u001b[0m \u001b[38;5;124;03m    :return: image contents as numpy array\u001b[39;00m\n\u001b[0;32m     85\u001b[0m \u001b[38;5;124;03m    \"\"\"\u001b[39;00m\n\u001b[1;32m---> 86\u001b[0m     im \u001b[38;5;241m=\u001b[39m \u001b[43mPIL\u001b[49m\u001b[38;5;241;43m.\u001b[39;49m\u001b[43mImage\u001b[49m\u001b[38;5;241;43m.\u001b[39;49m\u001b[43mopen\u001b[49m\u001b[43m(\u001b[49m\u001b[43mfile\u001b[49m\u001b[43m)\u001b[49m\n\u001b[0;32m     87\u001b[0m     \u001b[38;5;28;01mif\u001b[39;00m mode:\n\u001b[0;32m     88\u001b[0m         im \u001b[38;5;241m=\u001b[39m im\u001b[38;5;241m.\u001b[39mconvert(mode)\n",
      "File \u001b[1;32m~\\.conda\\envs\\new_env\\Lib\\site-packages\\PIL\\Image.py:3536\u001b[0m, in \u001b[0;36mopen\u001b[1;34m(fp, mode, formats)\u001b[0m\n\u001b[0;32m   3534\u001b[0m     warnings\u001b[38;5;241m.\u001b[39mwarn(message)\n\u001b[0;32m   3535\u001b[0m msg \u001b[38;5;241m=\u001b[39m \u001b[38;5;124m\"\u001b[39m\u001b[38;5;124mcannot identify image file \u001b[39m\u001b[38;5;132;01m%r\u001b[39;00m\u001b[38;5;124m\"\u001b[39m \u001b[38;5;241m%\u001b[39m (filename \u001b[38;5;28;01mif\u001b[39;00m filename \u001b[38;5;28;01melse\u001b[39;00m fp)\n\u001b[1;32m-> 3536\u001b[0m \u001b[38;5;28;01mraise\u001b[39;00m UnidentifiedImageError(msg)\n",
      "\u001b[1;31mUnidentifiedImageError\u001b[0m: cannot identify image file 'C:\\\\Users\\\\LENOVO\\\\yuz-tanima-sistemi\\\\known_faces\\\\desktop.ini'"
     ]
    }
   ],
   "source": [
    "from add_user import add_user\n",
    "from face_recognizer import recognize_face\n",
    "from log_writer import log_access\n",
    "\n",
    "def main():\n",
    "    while True:\n",
    "        print(\"\\n--- Yüz Tanıma Sistemi ---\")\n",
    "        print(\"1. Yeni Kullanıcı Kaydı\")\n",
    "        print(\"2. Yüz Tanıma ve Giriş Kontrolü\")\n",
    "        print(\"3. Çıkış\")\n",
    "\n",
    "        choice = input(\"Bir seçenek girin (1/2/3): \")\n",
    "\n",
    "        if choice == '1':\n",
    "            name = input(\"Kullanıcının adını girin: \")\n",
    "            if name.strip() == \"\":\n",
    "                print(\"İsim boş olamaz.\")\n",
    "                continue\n",
    "            add_user(name)\n",
    "\n",
    "        elif choice == '2':\n",
    "            result = recognize_face()\n",
    "            log_access(result)\n",
    "\n",
    "        elif choice == '3':\n",
    "            print(\"Programdan çıkılıyor.\")\n",
    "            break\n",
    "\n",
    "        else:\n",
    "            print(\"Geçersiz seçenek. Lütfen tekrar deneyin.\")\n",
    "\n",
    "if __name__ == \"__main__\":\n",
    "    main()\n"
   ]
  },
  {
   "cell_type": "code",
   "execution_count": null,
   "id": "f3475390-702e-4cb1-8a1b-ecf9dbb1e8f2",
   "metadata": {},
   "outputs": [],
   "source": []
  }
 ],
 "metadata": {
  "kernelspec": {
   "display_name": "new_env",
   "language": "python",
   "name": "new_env"
  },
  "language_info": {
   "codemirror_mode": {
    "name": "ipython",
    "version": 3
   },
   "file_extension": ".py",
   "mimetype": "text/x-python",
   "name": "python",
   "nbconvert_exporter": "python",
   "pygments_lexer": "ipython3",
   "version": "3.12.7"
  }
 },
 "nbformat": 4,
 "nbformat_minor": 5
}
